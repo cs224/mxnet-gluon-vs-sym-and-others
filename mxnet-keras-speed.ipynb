{
 "cells": [
  {
   "cell_type": "code",
   "execution_count": 1,
   "metadata": {},
   "outputs": [
    {
     "name": "stdout",
     "output_type": "stream",
     "text": [
      "Christian Schuhegger \n",
      "last updated: 2019-02-26 \n",
      "\n",
      "CPython 3.6.8\n",
      "IPython 7.3.0\n",
      "\n",
      "numpy 1.14.6\n",
      "scipy 1.2.0\n",
      "pandas 0.24.1\n",
      "matplotlib 3.0.2\n",
      "seaborn 0.9.0\n",
      "mxnet 1.3.1\n"
     ]
    }
   ],
   "source": [
    "%load_ext watermark\n",
    "%watermark -a 'Christian Schuhegger' -u -d -v -p numpy,scipy,pandas,matplotlib,seaborn,mxnet"
   ]
  },
  {
   "cell_type": "code",
   "execution_count": 2,
   "metadata": {},
   "outputs": [],
   "source": [
    "%matplotlib inline\n",
    "import numpy as np, scipy, scipy.stats as stats, pandas as pd, matplotlib.pyplot as plt, seaborn as sns\n",
    "import sklearn, sklearn.pipeline, sklearn.model_selection, sklearn.preprocessing\n",
    "import logging, time, datetime\n",
    "import mxnet as mx\n",
    "from mxnet import gluon, nd, autograd, metric\n",
    "import os\n",
    "\n",
    "pd.set_option('display.max_columns', 500)\n",
    "pd.set_option('display.width', 1000)\n",
    "# pd.set_option('display.float_format', lambda x: '%.2f' % x)\n",
    "np.set_printoptions(edgeitems=10)\n",
    "np.set_printoptions(linewidth=1000)\n",
    "np.set_printoptions(suppress=True)\n",
    "np.core.arrayprint._line_width = 180\n",
    "\n",
    "sns.set()"
   ]
  },
  {
   "cell_type": "code",
   "execution_count": 3,
   "metadata": {},
   "outputs": [],
   "source": [
    "os.environ[\"CUDA_DEVICE_ORDER\"]    = \"PCI_BUS_ID\"   # see issue #152\n",
    "os.environ[\"CUDA_VISIBLE_DEVICES\"] = ''\n",
    "\n",
    "os.environ[\"KERAS_BACKEND\"]        = \"mxnet\"\n",
    "# image_data_format: channels_last"
   ]
  },
  {
   "cell_type": "code",
   "execution_count": 4,
   "metadata": {},
   "outputs": [
    {
     "name": "stderr",
     "output_type": "stream",
     "text": [
      "Using MXNet backend\n"
     ]
    }
   ],
   "source": [
    "from keras import backend as K"
   ]
  },
  {
   "cell_type": "code",
   "execution_count": 5,
   "metadata": {},
   "outputs": [
    {
     "data": {
      "text/plain": [
       "1"
      ]
     },
     "execution_count": 5,
     "metadata": {},
     "output_type": "execute_result"
    }
   ],
   "source": [
    "K.get_num_gpus()"
   ]
  },
  {
   "cell_type": "code",
   "execution_count": 6,
   "metadata": {},
   "outputs": [
    {
     "data": {
      "text/plain": [
       "0"
      ]
     },
     "execution_count": 6,
     "metadata": {},
     "output_type": "execute_result"
    }
   ],
   "source": [
    "mx.context.num_gpus()"
   ]
  },
  {
   "cell_type": "code",
   "execution_count": 7,
   "metadata": {},
   "outputs": [
    {
     "data": {
      "text/plain": [
       "0"
      ]
     },
     "execution_count": 7,
     "metadata": {},
     "output_type": "execute_result"
    }
   ],
   "source": [
    "K.mx.context.num_gpus()"
   ]
  },
  {
   "cell_type": "code",
   "execution_count": 8,
   "metadata": {},
   "outputs": [],
   "source": [
    "import keras"
   ]
  },
  {
   "cell_type": "code",
   "execution_count": 9,
   "metadata": {},
   "outputs": [
    {
     "data": {
      "text/plain": [
       "'2.2.4.1'"
      ]
     },
     "execution_count": 9,
     "metadata": {},
     "output_type": "execute_result"
    }
   ],
   "source": [
    "keras.__version__"
   ]
  },
  {
   "cell_type": "code",
   "execution_count": 10,
   "metadata": {},
   "outputs": [
    {
     "data": {
      "text/html": [
       "<style>.container { width:70% !important; }</style>"
      ],
      "text/plain": [
       "<IPython.core.display.HTML object>"
      ]
     },
     "metadata": {},
     "output_type": "display_data"
    }
   ],
   "source": [
    "from IPython.display import display, HTML\n",
    "\n",
    "from IPython.display import display_html\n",
    "def display_side_by_side(*args):\n",
    "    html_str=''\n",
    "    for df in args:\n",
    "        if type(df) == np.ndarray:\n",
    "            df = pd.DataFrame(df)\n",
    "        html_str+=df.to_html()\n",
    "    html_str = html_str.replace('table','table style=\"display:inline\"')\n",
    "    # print(html_str)\n",
    "    display_html(html_str,raw=True)\n",
    "\n",
    "CSS = \"\"\"\n",
    ".output {\n",
    "    flex-direction: row;\n",
    "}\n",
    "\"\"\"\n",
    "\n",
    "def display_graphs_side_by_side(*args):\n",
    "    html_str='<table><tr>'\n",
    "    for g in args:\n",
    "        html_str += '<td>'\n",
    "        html_str += g._repr_svg_()\n",
    "        html_str += '</td>'\n",
    "    html_str += '</tr></table>'\n",
    "    display_html(html_str,raw=True)\n",
    "    \n",
    "\n",
    "display(HTML(\"<style>.container { width:70% !important; }</style>\"))"
   ]
  },
  {
   "cell_type": "code",
   "execution_count": 11,
   "metadata": {},
   "outputs": [],
   "source": [
    "# logging.basicConfig(level=logging.DEBUG, format='%(asctime)s:%(name)s:%(levelname)s: %(message)s')\n",
    "# log = logging.getLogger('std')"
   ]
  },
  {
   "cell_type": "code",
   "execution_count": 12,
   "metadata": {},
   "outputs": [],
   "source": [
    "N_in       = 1000\n",
    "N_subjects = 260 * 10 # 100000\n",
    "N_subjects = 100000\n",
    "W = stats.norm(loc=0, scale=1).rvs(size=(2,N_in), random_state=np.random.RandomState(42))\n",
    "X = stats.norm(loc=0, scale=1).rvs(size=(N_subjects,N_in), random_state=np.random.RandomState(43))\n",
    "y = np.sum(W[1:,:] * X + W[0,:], axis=1)"
   ]
  },
  {
   "cell_type": "code",
   "execution_count": 13,
   "metadata": {},
   "outputs": [
    {
     "data": {
      "text/plain": [
       "((100000,), (100000, 1000))"
      ]
     },
     "execution_count": 13,
     "metadata": {},
     "output_type": "execute_result"
    }
   ],
   "source": [
    "y.shape, X.shape"
   ]
  },
  {
   "cell_type": "code",
   "execution_count": 14,
   "metadata": {},
   "outputs": [
    {
     "data": {
      "text/plain": [
       "count    100000.000000\n",
       "mean         19.234805\n",
       "std          31.516783\n",
       "min        -147.380827\n",
       "25%          -2.102370\n",
       "50%          19.273695\n",
       "75%          40.475011\n",
       "max         147.253509\n",
       "dtype: float64"
      ]
     },
     "execution_count": 14,
     "metadata": {},
     "output_type": "execute_result"
    }
   ],
   "source": [
    "pd.Series(y).describe()"
   ]
  },
  {
   "cell_type": "code",
   "execution_count": 15,
   "metadata": {},
   "outputs": [],
   "source": [
    "X_train, X_test, y_train, y_test = sklearn.model_selection.train_test_split(X, y, test_size = 0.1, random_state = 42)"
   ]
  },
  {
   "cell_type": "code",
   "execution_count": 16,
   "metadata": {},
   "outputs": [],
   "source": [
    "batch_size = 256\n",
    "epochs     = 20"
   ]
  },
  {
   "cell_type": "code",
   "execution_count": 17,
   "metadata": {},
   "outputs": [],
   "source": [
    "def create_tensorflow_keras_model(input_tensor):\n",
    "    ACTIVATION = 'relu'\n",
    "\n",
    "    net = input_tensor\n",
    "\n",
    "    net = keras.layers.Dense(300, kernel_initializer=keras.initializers.glorot_normal(seed=42), activation=ACTIVATION, name='fc-1')(net)\n",
    "    net = keras.layers.Dense(100, kernel_initializer=keras.initializers.glorot_normal(seed=42), activation=ACTIVATION, name='fc-2')(net)\n",
    "    net = keras.layers.Dense(1, kernel_initializer=keras.initializers.glorot_normal(seed=42), activation=None, name='predictions')(net)\n",
    "\n",
    "    return net"
   ]
  },
  {
   "cell_type": "code",
   "execution_count": 18,
   "metadata": {},
   "outputs": [
    {
     "name": "stdout",
     "output_type": "stream",
     "text": [
      "Epoch 1/20\n",
      " 7424/90000 [=>............................] - ETA: 1s - loss: 964.1799 - mean_absolute_error: 24.5839 "
     ]
    },
    {
     "name": "stderr",
     "output_type": "stream",
     "text": [
      "/home/local/cs/local/install/anaconda3-5.3.1-Linux-x86_64/envs/mxnetkeras/lib/python3.6/site-packages/mxnet/module/bucketing_module.py:408: UserWarning: Optimizer created manually outside Module but rescale_grad is not normalized to 1.0/batch_size/num_workers (1.0 vs. 0.00390625). Is this intended?\n",
      "  force_init=force_init)\n"
     ]
    },
    {
     "name": "stdout",
     "output_type": "stream",
     "text": [
      "90000/90000 [==============================] - 2s 19us/step - loss: 141.6004 - mean_absolute_error: 6.0683\n",
      "Epoch 2/20\n",
      "90000/90000 [==============================] - 2s 19us/step - loss: 3.7242 - mean_absolute_error: 1.5298\n",
      "Epoch 3/20\n",
      "90000/90000 [==============================] - 2s 19us/step - loss: 1.8966 - mean_absolute_error: 1.0925\n",
      "Epoch 4/20\n",
      "90000/90000 [==============================] - 2s 18us/step - loss: 1.1846 - mean_absolute_error: 0.8620\n",
      "Epoch 5/20\n",
      "90000/90000 [==============================] - 2s 18us/step - loss: 0.8239 - mean_absolute_error: 0.7187\n",
      "Epoch 6/20\n",
      "90000/90000 [==============================] - 2s 18us/step - loss: 0.6523 - mean_absolute_error: 0.6364\n",
      "Epoch 7/20\n",
      "90000/90000 [==============================] - 2s 19us/step - loss: 0.5820 - mean_absolute_error: 0.6010\n",
      "Epoch 8/20\n",
      "90000/90000 [==============================] - 2s 18us/step - loss: 0.6185 - mean_absolute_error: 0.6206\n",
      "Epoch 9/20\n",
      "90000/90000 [==============================] - 2s 19us/step - loss: 0.7406 - mean_absolute_error: 0.6817\n",
      "Epoch 10/20\n",
      "90000/90000 [==============================] - 2s 18us/step - loss: 0.9496 - mean_absolute_error: 0.7741\n",
      "Epoch 11/20\n",
      "90000/90000 [==============================] - 2s 18us/step - loss: 1.1848 - mean_absolute_error: 0.8615\n",
      "Epoch 12/20\n",
      "90000/90000 [==============================] - 2s 19us/step - loss: 1.1947 - mean_absolute_error: 0.8661\n",
      "Epoch 13/20\n",
      "90000/90000 [==============================] - 2s 18us/step - loss: 1.0359 - mean_absolute_error: 0.8060\n",
      "Epoch 14/20\n",
      "90000/90000 [==============================] - 2s 17us/step - loss: 0.9513 - mean_absolute_error: 0.7719\n",
      "Epoch 15/20\n",
      "90000/90000 [==============================] - 2s 18us/step - loss: 0.9032 - mean_absolute_error: 0.7512\n",
      "Epoch 16/20\n",
      "90000/90000 [==============================] - 2s 18us/step - loss: 0.8386 - mean_absolute_error: 0.7264\n",
      "Epoch 17/20\n",
      "90000/90000 [==============================] - 2s 18us/step - loss: 0.8499 - mean_absolute_error: 0.7315\n",
      "Epoch 18/20\n",
      "90000/90000 [==============================] - 2s 18us/step - loss: 0.9165 - mean_absolute_error: 0.7547\n",
      "Epoch 19/20\n",
      "90000/90000 [==============================] - 2s 18us/step - loss: 0.7902 - mean_absolute_error: 0.7055\n",
      "Epoch 20/20\n",
      "90000/90000 [==============================] - 2s 18us/step - loss: 0.7072 - mean_absolute_error: 0.6657\n"
     ]
    }
   ],
   "source": [
    "sym_X_in  = keras.layers.Input(shape=[X.shape[1]])\n",
    "sym_y_out = create_tensorflow_keras_model(sym_X_in)\n",
    "\n",
    "tf_keras_model = keras.models.Model(sym_X_in, sym_y_out, name='MLP')\n",
    "tf_keras_model._context = [mx.cpu()]\n",
    "# tf_keras_model = keras.utils.multi_gpu_model(tf_keras_model, gpus=0, cpu_merge=True, cpu_relocation=False)\n",
    "tf_keras_model.compile(\"adam\", \"mean_squared_error\", [\"mean_absolute_error\"])\n",
    "\n",
    "time1 = time.time()\n",
    "tf_keras_model.fit(X_train, y_train, batch_size=batch_size, epochs=epochs, verbose=1)#, validation_split=0.1\n",
    "time2 = time.time()"
   ]
  },
  {
   "cell_type": "code",
   "execution_count": 19,
   "metadata": {},
   "outputs": [
    {
     "name": "stdout",
     "output_type": "stream",
     "text": [
      "time: 32.88792848587036\n"
     ]
    }
   ],
   "source": [
    "print('time: {}'.format(time2-time1))"
   ]
  },
  {
   "cell_type": "code",
   "execution_count": 20,
   "metadata": {},
   "outputs": [
    {
     "data": {
      "text/plain": [
       "1.5528236029114455"
      ]
     },
     "execution_count": 20,
     "metadata": {},
     "output_type": "execute_result"
    }
   ],
   "source": [
    "y_tf_keras_pred = tf_keras_model.predict(X_test)\n",
    "s = sklearn.metrics.mean_squared_error(y_test, y_tf_keras_pred)\n",
    "s"
   ]
  },
  {
   "cell_type": "code",
   "execution_count": 21,
   "metadata": {},
   "outputs": [
    {
     "data": {
      "text/plain": [
       "0.998417783008194"
      ]
     },
     "execution_count": 21,
     "metadata": {},
     "output_type": "execute_result"
    }
   ],
   "source": [
    "sklearn.metrics.explained_variance_score(y_test, y_tf_keras_pred)"
   ]
  }
 ],
 "metadata": {
  "kernelspec": {
   "display_name": "Python 3",
   "language": "python",
   "name": "python3"
  },
  "language_info": {
   "codemirror_mode": {
    "name": "ipython",
    "version": 3
   },
   "file_extension": ".py",
   "mimetype": "text/x-python",
   "name": "python",
   "nbconvert_exporter": "python",
   "pygments_lexer": "ipython3",
   "version": "3.6.8"
  }
 },
 "nbformat": 4,
 "nbformat_minor": 2
}
