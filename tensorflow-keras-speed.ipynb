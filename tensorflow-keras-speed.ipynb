{
 "cells": [
  {
   "cell_type": "code",
   "execution_count": 1,
   "metadata": {},
   "outputs": [
    {
     "name": "stdout",
     "output_type": "stream",
     "text": [
      "Christian Schuhegger \n",
      "last updated: 2019-02-26 \n",
      "\n",
      "CPython 3.6.8\n",
      "IPython 7.3.0\n",
      "\n",
      "numpy 1.16.1\n",
      "scipy 1.2.0\n",
      "pandas 0.24.1\n",
      "matplotlib 3.0.2\n",
      "seaborn 0.9.0\n",
      "tensorflow 1.12.0\n"
     ]
    }
   ],
   "source": [
    "%load_ext watermark\n",
    "%watermark -a 'Christian Schuhegger' -u -d -v -p numpy,scipy,pandas,matplotlib,seaborn,tensorflow"
   ]
  },
  {
   "cell_type": "code",
   "execution_count": 2,
   "metadata": {},
   "outputs": [],
   "source": [
    "%matplotlib inline\n",
    "import numpy as np, scipy, scipy.stats as stats, pandas as pd, matplotlib.pyplot as plt, seaborn as sns\n",
    "import sklearn, sklearn.pipeline, sklearn.model_selection, sklearn.preprocessing\n",
    "import logging, time, datetime\n",
    "import tensorflow as tf, tensorflow.keras as keras\n",
    "\n",
    "\n",
    "pd.set_option('display.max_columns', 500)\n",
    "pd.set_option('display.width', 1000)\n",
    "# pd.set_option('display.float_format', lambda x: '%.2f' % x)\n",
    "np.set_printoptions(edgeitems=10)\n",
    "np.set_printoptions(linewidth=1000)\n",
    "np.set_printoptions(suppress=True)\n",
    "np.core.arrayprint._line_width = 180\n",
    "\n",
    "sns.set()"
   ]
  },
  {
   "cell_type": "code",
   "execution_count": 3,
   "metadata": {},
   "outputs": [
    {
     "data": {
      "text/plain": [
       "'2.1.6-tf'"
      ]
     },
     "execution_count": 3,
     "metadata": {},
     "output_type": "execute_result"
    }
   ],
   "source": [
    "tf.keras.__version__"
   ]
  },
  {
   "cell_type": "code",
   "execution_count": 4,
   "metadata": {},
   "outputs": [
    {
     "data": {
      "text/html": [
       "<style>.container { width:70% !important; }</style>"
      ],
      "text/plain": [
       "<IPython.core.display.HTML object>"
      ]
     },
     "metadata": {},
     "output_type": "display_data"
    }
   ],
   "source": [
    "from IPython.display import display, HTML\n",
    "\n",
    "from IPython.display import display_html\n",
    "def display_side_by_side(*args):\n",
    "    html_str=''\n",
    "    for df in args:\n",
    "        if type(df) == np.ndarray:\n",
    "            df = pd.DataFrame(df)\n",
    "        html_str+=df.to_html()\n",
    "    html_str = html_str.replace('table','table style=\"display:inline\"')\n",
    "    # print(html_str)\n",
    "    display_html(html_str,raw=True)\n",
    "\n",
    "CSS = \"\"\"\n",
    ".output {\n",
    "    flex-direction: row;\n",
    "}\n",
    "\"\"\"\n",
    "\n",
    "def display_graphs_side_by_side(*args):\n",
    "    html_str='<table><tr>'\n",
    "    for g in args:\n",
    "        html_str += '<td>'\n",
    "        html_str += g._repr_svg_()\n",
    "        html_str += '</td>'\n",
    "    html_str += '</tr></table>'\n",
    "    display_html(html_str,raw=True)\n",
    "    \n",
    "\n",
    "display(HTML(\"<style>.container { width:70% !important; }</style>\"))"
   ]
  },
  {
   "cell_type": "code",
   "execution_count": 5,
   "metadata": {},
   "outputs": [
    {
     "name": "stdout",
     "output_type": "stream",
     "text": [
      "[name: \"/device:CPU:0\"\n",
      "device_type: \"CPU\"\n",
      "memory_limit: 268435456\n",
      "locality {\n",
      "}\n",
      "incarnation: 3712538308586960821\n",
      ", name: \"/device:XLA_CPU:0\"\n",
      "device_type: \"XLA_CPU\"\n",
      "memory_limit: 17179869184\n",
      "locality {\n",
      "}\n",
      "incarnation: 10848146955848524755\n",
      "physical_device_desc: \"device: XLA_CPU device\"\n",
      "]\n"
     ]
    }
   ],
   "source": [
    "from tensorflow.python.client import device_lib\n",
    "print(device_lib.list_local_devices())"
   ]
  },
  {
   "cell_type": "code",
   "execution_count": 6,
   "metadata": {},
   "outputs": [],
   "source": [
    "# logging.basicConfig(level=logging.DEBUG, format='%(asctime)s:%(name)s:%(levelname)s: %(message)s')\n",
    "# log = logging.getLogger('std')"
   ]
  },
  {
   "cell_type": "code",
   "execution_count": 7,
   "metadata": {},
   "outputs": [],
   "source": [
    "N_in       = 1000\n",
    "N_subjects = 260 * 10 # 100000\n",
    "N_subjects = 100000\n",
    "W = stats.norm(loc=0, scale=1).rvs(size=(2,N_in), random_state=np.random.RandomState(42))\n",
    "X = stats.norm(loc=0, scale=1).rvs(size=(N_subjects,N_in), random_state=np.random.RandomState(43))\n",
    "y = np.sum(W[1:,:] * X + W[0,:], axis=1)"
   ]
  },
  {
   "cell_type": "code",
   "execution_count": 8,
   "metadata": {},
   "outputs": [
    {
     "data": {
      "text/plain": [
       "((100000,), (100000, 1000))"
      ]
     },
     "execution_count": 8,
     "metadata": {},
     "output_type": "execute_result"
    }
   ],
   "source": [
    "y.shape, X.shape"
   ]
  },
  {
   "cell_type": "code",
   "execution_count": 9,
   "metadata": {},
   "outputs": [
    {
     "data": {
      "text/plain": [
       "count    100000.000000\n",
       "mean         19.234805\n",
       "std          31.516783\n",
       "min        -147.380827\n",
       "25%          -2.102370\n",
       "50%          19.273695\n",
       "75%          40.475011\n",
       "max         147.253509\n",
       "dtype: float64"
      ]
     },
     "execution_count": 9,
     "metadata": {},
     "output_type": "execute_result"
    }
   ],
   "source": [
    "pd.Series(y).describe()"
   ]
  },
  {
   "cell_type": "code",
   "execution_count": 10,
   "metadata": {},
   "outputs": [],
   "source": [
    "X_train, X_test, y_train, y_test = sklearn.model_selection.train_test_split(X, y, test_size = 0.1, random_state = 42)"
   ]
  },
  {
   "cell_type": "code",
   "execution_count": 11,
   "metadata": {},
   "outputs": [],
   "source": [
    "batch_size = 256\n",
    "epochs     = 20"
   ]
  },
  {
   "cell_type": "code",
   "execution_count": 12,
   "metadata": {},
   "outputs": [],
   "source": [
    "def create_tensorflow_keras_model(input_tensor):\n",
    "    ACTIVATION = 'relu'\n",
    "\n",
    "    net = input_tensor\n",
    "\n",
    "    net = keras.layers.Dense(300, activation=ACTIVATION, name='fc-1')(net)\n",
    "    net = keras.layers.Dense(100, activation=ACTIVATION, name='fc-2')(net)\n",
    "    net = keras.layers.Dense(1, activation=None, name='predictions')(net)\n",
    "\n",
    "    return net"
   ]
  },
  {
   "cell_type": "code",
   "execution_count": 13,
   "metadata": {},
   "outputs": [
    {
     "name": "stdout",
     "output_type": "stream",
     "text": [
      "Epoch 1/20\n",
      "90000/90000 [==============================] - 2s 23us/step - loss: 158.0763 - mean_absolute_error: 6.3414\n",
      "Epoch 2/20\n",
      "90000/90000 [==============================] - 2s 21us/step - loss: 2.9508 - mean_absolute_error: 1.3592\n",
      "Epoch 3/20\n",
      "90000/90000 [==============================] - 2s 20us/step - loss: 1.6632 - mean_absolute_error: 1.0218\n",
      "Epoch 4/20\n",
      "90000/90000 [==============================] - 2s 21us/step - loss: 1.0834 - mean_absolute_error: 0.8221\n",
      "Epoch 5/20\n",
      "90000/90000 [==============================] - 2s 20us/step - loss: 0.8003 - mean_absolute_error: 0.7032\n",
      "Epoch 6/20\n",
      "90000/90000 [==============================] - 2s 21us/step - loss: 0.6689 - mean_absolute_error: 0.6428\n",
      "Epoch 7/20\n",
      "90000/90000 [==============================] - 2s 21us/step - loss: 0.6334 - mean_absolute_error: 0.6251\n",
      "Epoch 8/20\n",
      "90000/90000 [==============================] - 2s 21us/step - loss: 0.7128 - mean_absolute_error: 0.6655\n",
      "Epoch 9/20\n",
      "90000/90000 [==============================] - 2s 21us/step - loss: 0.8296 - mean_absolute_error: 0.7204\n",
      "Epoch 10/20\n",
      "90000/90000 [==============================] - 2s 21us/step - loss: 0.9892 - mean_absolute_error: 0.7874\n",
      "Epoch 11/20\n",
      "90000/90000 [==============================] - 2s 21us/step - loss: 1.1353 - mean_absolute_error: 0.8430\n",
      "Epoch 12/20\n",
      "90000/90000 [==============================] - 2s 21us/step - loss: 1.1060 - mean_absolute_error: 0.8323\n",
      "Epoch 13/20\n",
      "90000/90000 [==============================] - 2s 21us/step - loss: 0.9711 - mean_absolute_error: 0.7809\n",
      "Epoch 14/20\n",
      "90000/90000 [==============================] - 2s 21us/step - loss: 0.8770 - mean_absolute_error: 0.7415\n",
      "Epoch 15/20\n",
      "90000/90000 [==============================] - 2s 20us/step - loss: 0.7670 - mean_absolute_error: 0.6936\n",
      "Epoch 16/20\n",
      "90000/90000 [==============================] - 2s 20us/step - loss: 0.7315 - mean_absolute_error: 0.6775\n",
      "Epoch 17/20\n",
      "90000/90000 [==============================] - 2s 21us/step - loss: 0.7770 - mean_absolute_error: 0.6979\n",
      "Epoch 18/20\n",
      "90000/90000 [==============================] - 2s 21us/step - loss: 0.7897 - mean_absolute_error: 0.7027\n",
      "Epoch 19/20\n",
      "90000/90000 [==============================] - 2s 21us/step - loss: 0.7091 - mean_absolute_error: 0.6670\n",
      "Epoch 20/20\n",
      "90000/90000 [==============================] - 2s 21us/step - loss: 0.7089 - mean_absolute_error: 0.6670\n"
     ]
    }
   ],
   "source": [
    "sym_X_in  = keras.layers.Input(shape=[X.shape[1]])\n",
    "sym_y_out = create_tensorflow_keras_model(sym_X_in)\n",
    "\n",
    "tf_keras_model = keras.models.Model(sym_X_in, sym_y_out, name='MLP')\n",
    "tf_keras_model.compile(\"adam\", \"mean_squared_error\", [\"mean_absolute_error\"])\n",
    "\n",
    "time1 = time.time()\n",
    "tf_keras_model.fit(X_train, y_train, batch_size=batch_size, epochs=epochs, verbose=1)#, validation_split=0.1\n",
    "time2 = time.time()"
   ]
  },
  {
   "cell_type": "code",
   "execution_count": 14,
   "metadata": {},
   "outputs": [
    {
     "name": "stdout",
     "output_type": "stream",
     "text": [
      "time: 37.65403413772583\n"
     ]
    }
   ],
   "source": [
    "print('time: {}'.format(time2-time1))"
   ]
  },
  {
   "cell_type": "code",
   "execution_count": 15,
   "metadata": {},
   "outputs": [
    {
     "data": {
      "text/plain": [
       "1.4023710775244795"
      ]
     },
     "execution_count": 15,
     "metadata": {},
     "output_type": "execute_result"
    }
   ],
   "source": [
    "y_tf_keras_pred = tf_keras_model.predict(X_test)\n",
    "s = sklearn.metrics.mean_squared_error(y_test, y_tf_keras_pred)\n",
    "s"
   ]
  },
  {
   "cell_type": "code",
   "execution_count": 16,
   "metadata": {},
   "outputs": [
    {
     "data": {
      "text/plain": [
       "0.9985703939215318"
      ]
     },
     "execution_count": 16,
     "metadata": {},
     "output_type": "execute_result"
    }
   ],
   "source": [
    "sklearn.metrics.explained_variance_score(y_test, y_tf_keras_pred)"
   ]
  }
 ],
 "metadata": {
  "kernelspec": {
   "display_name": "Python 3",
   "language": "python",
   "name": "python3"
  },
  "language_info": {
   "codemirror_mode": {
    "name": "ipython",
    "version": 3
   },
   "file_extension": ".py",
   "mimetype": "text/x-python",
   "name": "python",
   "nbconvert_exporter": "python",
   "pygments_lexer": "ipython3",
   "version": "3.6.8"
  }
 },
 "nbformat": 4,
 "nbformat_minor": 2
}
